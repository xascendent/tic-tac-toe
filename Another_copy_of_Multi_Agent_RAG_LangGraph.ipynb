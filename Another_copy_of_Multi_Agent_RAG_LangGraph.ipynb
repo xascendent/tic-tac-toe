{
  "nbformat": 4,
  "nbformat_minor": 0,
  "metadata": {
    "colab": {
      "provenance": [],
      "include_colab_link": true
    },
    "kernelspec": {
      "name": "python3",
      "display_name": "Python 3"
    },
    "language_info": {
      "name": "python"
    }
  },
  "cells": [
    {
      "cell_type": "markdown",
      "metadata": {
        "id": "view-in-github",
        "colab_type": "text"
      },
      "source": [
        "<a href=\"https://colab.research.google.com/github/xascendent/tic-tac-toe/blob/main/Another_copy_of_Multi_Agent_RAG_LangGraph.ipynb\" target=\"_parent\"><img src=\"https://colab.research.google.com/assets/colab-badge.svg\" alt=\"Open In Colab\"/></a>"
      ]
    },
    {
      "cell_type": "markdown",
      "source": [
        "# Multi-Agent Workflows + RAG - LangGraph\n",
        "\n",
        "Today we'll be looking at an example of a Multi-Agent workflow that's powered by LangGraph, LCEL, and more!\n",
        "\n",
        "We're going to be, more specifically, looking at a \"heirarchical agent teams\" from the [AutoGen: Enabling Next-Gen LLM\n",
        "Applications via Multi-Agent Conversation](https://arxiv.org/pdf/2308.08155) paper.\n",
        "\n",
        "This will be the final \"graph\" of our system:\n",
        "\n",
        "![image](https://i.imgur.com/Bhc7RVE.png)\n",
        "\n",
        "It's important to keep in mind that the actual implementation will be constructed of 3 separate graphs, the final one having 2 graphs as nodes! LangGraph is a heckuva tool!\n",
        "\n"
      ],
      "metadata": {
        "id": "KxpWDFG11o3G"
      }
    },
    {
      "cell_type": "markdown",
      "source": [
        "# 🤝 BREAKOUT ROOM #1"
      ],
      "metadata": {
        "id": "TyzoBrWoYeOZ"
      }
    },
    {
      "cell_type": "markdown",
      "source": [
        "## Dependencies\n",
        "\n",
        "We'll start, as we normally do, by grabbing our dependencies.\n",
        "\n",
        "We'll be using LangChain and LangGraph to power our application, so let's start by grabbing those!"
      ],
      "metadata": {
        "id": "mx3oaVoX5cA2"
      }
    },
    {
      "cell_type": "code",
      "execution_count": null,
      "metadata": {
        "id": "cs6HUTgecbzW",
        "colab": {
          "base_uri": "https://localhost:8080/"
        },
        "outputId": "4d57cd42-d798-4e6e-aa23-0469eedd1648"
      },
      "outputs": [
        {
          "output_type": "stream",
          "name": "stdout",
          "text": [
            "\u001b[?25l   \u001b[90m━━━━━━━━━━━━━━━━━━━━━━━━━━━━━━━━━━━━━━━━\u001b[0m \u001b[32m0.0/87.7 kB\u001b[0m \u001b[31m?\u001b[0m eta \u001b[36m-:--:--\u001b[0m\r\u001b[2K   \u001b[90m━━━━━━━━━━━━━━━━━━━━━━━━━━━━━━━━━━━━━━━━\u001b[0m \u001b[32m87.7/87.7 kB\u001b[0m \u001b[31m2.9 MB/s\u001b[0m eta \u001b[36m0:00:00\u001b[0m\n",
            "\u001b[?25h\u001b[?25l   \u001b[90m━━━━━━━━━━━━━━━━━━━━━━━━━━━━━━━━━━━━━━━━\u001b[0m \u001b[32m0.0/997.8 kB\u001b[0m \u001b[31m?\u001b[0m eta \u001b[36m-:--:--\u001b[0m\r\u001b[2K   \u001b[91m━━━━━━━━━━━━━━━━━━━━━━━━━━━━━━━━\u001b[0m\u001b[90m╺\u001b[0m\u001b[90m━━━━━━━\u001b[0m \u001b[32m798.7/997.8 kB\u001b[0m \u001b[31m23.9 MB/s\u001b[0m eta \u001b[36m0:00:01\u001b[0m\r\u001b[2K   \u001b[90m━━━━━━━━━━━━━━━━━━━━━━━━━━━━━━━━━━━━━━━━\u001b[0m \u001b[32m997.8/997.8 kB\u001b[0m \u001b[31m17.0 MB/s\u001b[0m eta \u001b[36m0:00:00\u001b[0m\n",
            "\u001b[2K   \u001b[90m━━━━━━━━━━━━━━━━━━━━━━━━━━━━━━━━━━━━━━━━\u001b[0m \u001b[32m52.0/52.0 kB\u001b[0m \u001b[31m3.3 MB/s\u001b[0m eta \u001b[36m0:00:00\u001b[0m\n",
            "\u001b[2K   \u001b[90m━━━━━━━━━━━━━━━━━━━━━━━━━━━━━━━━━━━━━━━━\u001b[0m \u001b[32m394.9/394.9 kB\u001b[0m \u001b[31m22.2 MB/s\u001b[0m eta \u001b[36m0:00:00\u001b[0m\n",
            "\u001b[2K   \u001b[90m━━━━━━━━━━━━━━━━━━━━━━━━━━━━━━━━━━━━━━━━\u001b[0m \u001b[32m2.3/2.3 MB\u001b[0m \u001b[31m60.1 MB/s\u001b[0m eta \u001b[36m0:00:00\u001b[0m\n",
            "\u001b[2K   \u001b[90m━━━━━━━━━━━━━━━━━━━━━━━━━━━━━━━━━━━━━━━━\u001b[0m \u001b[32m311.8/311.8 kB\u001b[0m \u001b[31m20.9 MB/s\u001b[0m eta \u001b[36m0:00:00\u001b[0m\n",
            "\u001b[2K   \u001b[90m━━━━━━━━━━━━━━━━━━━━━━━━━━━━━━━━━━━━━━━━\u001b[0m \u001b[32m1.2/1.2 MB\u001b[0m \u001b[31m49.0 MB/s\u001b[0m eta \u001b[36m0:00:00\u001b[0m\n",
            "\u001b[2K   \u001b[90m━━━━━━━━━━━━━━━━━━━━━━━━━━━━━━━━━━━━━━━━\u001b[0m \u001b[32m50.9/50.9 kB\u001b[0m \u001b[31m3.3 MB/s\u001b[0m eta \u001b[36m0:00:00\u001b[0m\n",
            "\u001b[?25h"
          ]
        }
      ],
      "source": [
        "!pip install -qU langgraph==0.2.14 langchain==0.2.14 langchain_openai==0.1.23 langchain_core==0.2.35 langchain-community"
      ]
    },
    {
      "cell_type": "markdown",
      "source": [
        "We're going to be showing a simple RAG chain as part of our LangGraph - and so we'll need specific dependencies for that as well!"
      ],
      "metadata": {
        "id": "BMzWFUc25oqT"
      }
    },
    {
      "cell_type": "code",
      "source": [
        "!pip install -qU --disable-pip-version-check qdrant-client pymupdf tiktoken"
      ],
      "metadata": {
        "id": "qEUBCOdukjwc",
        "colab": {
          "base_uri": "https://localhost:8080/"
        },
        "outputId": "0539abd7-3269-4303-ec7f-f36540c0a902"
      },
      "execution_count": null,
      "outputs": [
        {
          "output_type": "stream",
          "name": "stdout",
          "text": [
            "\u001b[2K   \u001b[90m━━━━━━━━━━━━━━━━━━━━━━━━━━━━━━━━━━━━━━━━\u001b[0m \u001b[32m306.6/306.6 kB\u001b[0m \u001b[31m4.0 MB/s\u001b[0m eta \u001b[36m0:00:00\u001b[0m\n",
            "\u001b[2K   \u001b[90m━━━━━━━━━━━━━━━━━━━━━━━━━━━━━━━━━━━━━━━━\u001b[0m \u001b[32m20.0/20.0 MB\u001b[0m \u001b[31m22.9 MB/s\u001b[0m eta \u001b[36m0:00:00\u001b[0m\n",
            "\u001b[2K   \u001b[90m━━━━━━━━━━━━━━━━━━━━━━━━━━━━━━━━━━━━━━━━\u001b[0m \u001b[32m2.5/2.5 MB\u001b[0m \u001b[31m24.3 MB/s\u001b[0m eta \u001b[36m0:00:00\u001b[0m\n",
            "\u001b[2K   \u001b[90m━━━━━━━━━━━━━━━━━━━━━━━━━━━━━━━━━━━━━━━━\u001b[0m \u001b[32m61.0/61.0 kB\u001b[0m \u001b[31m3.0 MB/s\u001b[0m eta \u001b[36m0:00:00\u001b[0m\n",
            "\u001b[2K   \u001b[90m━━━━━━━━━━━━━━━━━━━━━━━━━━━━━━━━━━━━━━━━\u001b[0m \u001b[32m319.7/319.7 kB\u001b[0m \u001b[31m17.1 MB/s\u001b[0m eta \u001b[36m0:00:00\u001b[0m\n",
            "\u001b[?25h"
          ]
        }
      ]
    },
    {
      "cell_type": "markdown",
      "source": [
        "Since we'll be relying on OpenAI's suite of models to power our agents today, we'll want to provide our OpenAI API Key.\n",
        "\n",
        "We're also going to be using the Tavily search tool - so we'll want to provide that API key as well!\n",
        "\n",
        "Instruction for how to obtain the Tavily API key can be found:\n",
        "\n",
        "1. [Tavily API Key](https://app.tavily.com/sign-in)\n",
        "\n"
      ],
      "metadata": {
        "id": "Zpv2MWqu5vS9"
      }
    },
    {
      "cell_type": "code",
      "source": [
        "import os\n",
        "import getpass\n",
        "\n",
        "os.environ[\"OPENAI_API_KEY\"] = getpass.getpass(\"OpenAI API Key:\")\n",
        "os.environ[\"TAVILY_API_KEY\"] = getpass.getpass(\"TAVILY_API_KEY\")"
      ],
      "metadata": {
        "colab": {
          "base_uri": "https://localhost:8080/"
        },
        "id": "h30OjkLfeR2Y",
        "outputId": "9a6382d8-7ce1-4820-8b64-fb3d28ff8953"
      },
      "execution_count": null,
      "outputs": [
        {
          "name": "stdout",
          "output_type": "stream",
          "text": [
            "OpenAI API Key:··········\n",
            "TAVILY_API_KEY··········\n"
          ]
        }
      ]
    },
    {
      "cell_type": "markdown",
      "source": [
        "## Task 1: Simple LCEL RAG\n",
        "\n",
        "Now that we have our dependencies set-up - let's create a simple RAG chain that works over a single PDF.\n",
        "\n",
        "> NOTE: While this particular example is very straight forward - you can \"plug in\" any complexity of chain you desire as a node in a LangGraph."
      ],
      "metadata": {
        "id": "M_LD7rwT6PbO"
      }
    },
    {
      "cell_type": "markdown",
      "source": [
        "## Retrieval\n",
        "\n",
        "The 'R' in 'RAG' - this is, at this point, fairly straightforward!"
      ],
      "metadata": {
        "id": "JY7T5kxJ6jGn"
      }
    },
    {
      "cell_type": "markdown",
      "source": [
        "#### Data Collection and Processing\n",
        "\n",
        "A classic first step, at this point, let's grab our desired document!"
      ],
      "metadata": {
        "id": "DGuPxSCk7Ztz"
      }
    },
    {
      "cell_type": "code",
      "source": [
        "from langchain.document_loaders import PyMuPDFLoader\n",
        "\n",
        "docs = PyMuPDFLoader(\"https://arxiv.org/pdf/2404.19553\").load()"
      ],
      "metadata": {
        "id": "LfuoEYRCln3H"
      },
      "execution_count": null,
      "outputs": []
    },
    {
      "cell_type": "markdown",
      "source": [
        "Now we can chunk it down to size!"
      ],
      "metadata": {
        "id": "r_t_F1zG6vXa"
      }
    },
    {
      "cell_type": "code",
      "source": [
        "import tiktoken\n",
        "from langchain.text_splitter import RecursiveCharacterTextSplitter\n",
        "\n",
        "def tiktoken_len(text):\n",
        "    tokens = tiktoken.encoding_for_model(\"gpt-4o-mini\").encode(\n",
        "        text,\n",
        "    )\n",
        "    return len(tokens)\n",
        "\n",
        "text_splitter = RecursiveCharacterTextSplitter(\n",
        "    chunk_size = 300,\n",
        "    chunk_overlap = 0,\n",
        "    length_function = tiktoken_len,\n",
        ")\n",
        "\n",
        "split_chunks = text_splitter.split_documents(docs)"
      ],
      "metadata": {
        "id": "5R7A_z8CgL79"
      },
      "execution_count": null,
      "outputs": []
    },
    {
      "cell_type": "markdown",
      "source": [
        "Now we've successfully split our single PDF into..."
      ],
      "metadata": {
        "id": "lGE-VuMc7AKv"
      }
    },
    {
      "cell_type": "code",
      "source": [
        "len(split_chunks)"
      ],
      "metadata": {
        "colab": {
          "base_uri": "https://localhost:8080/"
        },
        "id": "pgYBHsdWmLvW",
        "outputId": "d1a31462-9820-4e1e-be82-26b1b4f65677"
      },
      "execution_count": null,
      "outputs": [
        {
          "output_type": "execute_result",
          "data": {
            "text/plain": [
              "15"
            ]
          },
          "metadata": {},
          "execution_count": 13
        }
      ]
    },
    {
      "cell_type": "markdown",
      "source": [
        "documents!"
      ],
      "metadata": {
        "id": "lxaKmmyh7DHD"
      }
    },
    {
      "cell_type": "markdown",
      "source": [
        "#### Embedding Model and Vector Store\n",
        "\n",
        "Now that we have our chunked document - lets create a vector store, which will first require us to create an embedding model to get the vector representations of our text!\n",
        "\n",
        "We'll use OpenAI's [`text-embedding-3-small`](https://platform.openai.com/docs/guides/embeddings/embedding-models) model - as it's cheap, and performant."
      ],
      "metadata": {
        "id": "cGWs7KTd7QPS"
      }
    },
    {
      "cell_type": "code",
      "source": [
        "from langchain_openai.embeddings import OpenAIEmbeddings\n",
        "\n",
        "embedding_model = OpenAIEmbeddings(model=\"text-embedding-3-small\")"
      ],
      "metadata": {
        "id": "xLIWMMZCmfrj"
      },
      "execution_count": null,
      "outputs": []
    },
    {
      "cell_type": "markdown",
      "source": [
        "Now we can create our QDrant backed vector store!"
      ],
      "metadata": {
        "id": "lTEi7Ww573sc"
      }
    },
    {
      "cell_type": "code",
      "source": [
        "from langchain_community.vectorstores import Qdrant\n",
        "\n",
        "qdrant_vectorstore = Qdrant.from_documents(\n",
        "    split_chunks,\n",
        "    embedding_model,\n",
        "    location=\":memory:\",\n",
        "    collection_name=\"extending_context_window_llama_3\",\n",
        ")"
      ],
      "metadata": {
        "id": "Xct51f8omVAU"
      },
      "execution_count": null,
      "outputs": []
    },
    {
      "cell_type": "markdown",
      "source": [
        "Let's make sure we can access it as a retriever."
      ],
      "metadata": {
        "id": "wzGq6o4s79Ar"
      }
    },
    {
      "cell_type": "code",
      "source": [
        "qdrant_retriever = qdrant_vectorstore.as_retriever()"
      ],
      "metadata": {
        "id": "OTnQZbWymi4K"
      },
      "execution_count": null,
      "outputs": []
    },
    {
      "cell_type": "markdown",
      "source": [
        "### Augmented\n",
        "\n",
        "Now that we have our retrieval process set-up, we need to set up our \"augmentation\" process - AKA a prompt template."
      ],
      "metadata": {
        "id": "aU8qSrMS7_D7"
      }
    },
    {
      "cell_type": "code",
      "source": [
        "from langchain_core.prompts import ChatPromptTemplate\n",
        "\n",
        "RAG_PROMPT = \"\"\"\n",
        "CONTEXT:\n",
        "{context}\n",
        "\n",
        "QUERY:\n",
        "{question}\n",
        "\n",
        "You are a helpful assistant. Use the available context to answer the question. If you can't answer the question, say you don't know.\n",
        "\"\"\"\n",
        "\n",
        "rag_prompt = ChatPromptTemplate.from_template(RAG_PROMPT)"
      ],
      "metadata": {
        "id": "lezTN0zCmk46"
      },
      "execution_count": null,
      "outputs": []
    },
    {
      "cell_type": "markdown",
      "source": [
        "### Generation\n",
        "\n",
        "Last, but certainly not least, let's put the 'G' in 'RAG' by adding our generator - in this case, we can rely on OpenAI's [`gpt-4o-mini`](https://platform.openai.com/docs/models/gpt-4o-mini) model!"
      ],
      "metadata": {
        "id": "Y9fa63nM7IKK"
      }
    },
    {
      "cell_type": "code",
      "source": [
        "from langchain_openai import ChatOpenAI\n",
        "\n",
        "openai_chat_model = ChatOpenAI(model=\"gpt-4o-mini\")"
      ],
      "metadata": {
        "id": "AwEi29-Jo3a8"
      },
      "execution_count": null,
      "outputs": []
    },
    {
      "cell_type": "markdown",
      "source": [
        "### RAG - Retrieval Augmented Generation\n",
        "\n",
        "All that's left to do is combine our R, A, and G into a single chain - and we're off!"
      ],
      "metadata": {
        "id": "qO-ZC0T98XJJ"
      }
    },
    {
      "cell_type": "code",
      "source": [
        "from operator import itemgetter\n",
        "from langchain.schema.output_parser import StrOutputParser\n",
        "\n",
        "rag_chain = (\n",
        "    {\"context\": itemgetter(\"question\") | qdrant_retriever, \"question\": itemgetter(\"question\")}\n",
        "    | rag_prompt | openai_chat_model | StrOutputParser()\n",
        ")"
      ],
      "metadata": {
        "id": "nlOJrPm_oT3S"
      },
      "execution_count": null,
      "outputs": []
    },
    {
      "cell_type": "markdown",
      "source": [
        "Let's test this out and make sure it works."
      ],
      "metadata": {
        "id": "qiWrbXpu8ggz"
      }
    },
    {
      "cell_type": "code",
      "source": [
        "rag_chain.invoke({\"question\" : \"What does the 'context' in 'long context' refer to?\"})"
      ],
      "metadata": {
        "colab": {
          "base_uri": "https://localhost:8080/",
          "height": 90
        },
        "id": "gJhFlW32pBPe",
        "outputId": "63624c28-3a6c-4433-a1de-6d501c50e24e"
      },
      "execution_count": null,
      "outputs": [
        {
          "output_type": "execute_result",
          "data": {
            "text/plain": [
              "'In the context of \"long context\" as mentioned in the documents, \\'context\\' refers to the amount of text or information that a large language model (LLM) can process or analyze at one time. Specifically, it involves the length of the input text that the model can handle, which can include various types of content such as books or long papers. The documents discuss extending the context capabilities of LLMs, allowing them to work with significantly larger segments of text (up to 80K tokens) compared to their original limits (like 8K tokens). This allows the model to perform tasks that require understanding and reasoning over larger bodies of text, such as answering questions or summarizing information.'"
            ],
            "application/vnd.google.colaboratory.intrinsic+json": {
              "type": "string"
            }
          },
          "metadata": {},
          "execution_count": 20
        }
      ]
    },
    {
      "cell_type": "markdown",
      "source": [
        "### RAG Limitation\n",
        "\n",
        "Notice how we're hard-coding our data, while this is simply meant to be an illustrative example - you could easily extend this to work with any provied paper or document in order to have a more dynamic system.\n",
        "\n",
        "For now, we'll stick with this single hard-coded example in order to keep complexity down in an already very long notebook!"
      ],
      "metadata": {
        "id": "gReMizYk8qd-"
      }
    },
    {
      "cell_type": "markdown",
      "source": [
        "##### 🏗️ Activity #1 (Bonus Marks)\n",
        "\n",
        "Allow the system to dynamically fetch Arxiv papers instead of hard coding them.\n",
        "\n",
        "> HINT: Tuesday's assignment will be very useful here.\n"
      ],
      "metadata": {
        "id": "oxkbuir-H5rE"
      }
    },
    {
      "cell_type": "code",
      "source": [
        "# https://python.langchain.com/docs/integrations/tools/arxiv/\n",
        "\n",
        "!pip install -qU langchain-community arxiv==2.1.3\n",
        "\n",
        "from langchain_community.utilities import ArxivAPIWrapper, arxiv\n",
        "\n",
        "search_term = input(\"Please enter the Arxiv paper you'd like to search for:\")\n",
        "arxiv = ArxivAPIWrapper()\n",
        "docs = arxiv.run(search_term)\n",
        "docs"
      ],
      "metadata": {
        "colab": {
          "base_uri": "https://localhost:8080/",
          "height": 310
        },
        "id": "4eQ2hYfwQCjv",
        "outputId": "786f3515-1f57-433a-82eb-1bd4e2682252"
      },
      "execution_count": null,
      "outputs": [
        {
          "name": "stdout",
          "output_type": "stream",
          "text": [
            "  Preparing metadata (setup.py) ... \u001b[?25l\u001b[?25hdone\n",
            "\u001b[2K   \u001b[90m━━━━━━━━━━━━━━━━━━━━━━━━━━━━━━━━━━━━━━━━\u001b[0m \u001b[32m2.5/2.5 MB\u001b[0m \u001b[31m28.3 MB/s\u001b[0m eta \u001b[36m0:00:00\u001b[0m\n",
            "\u001b[2K   \u001b[90m━━━━━━━━━━━━━━━━━━━━━━━━━━━━━━━━━━━━━━━━\u001b[0m \u001b[32m81.3/81.3 kB\u001b[0m \u001b[31m5.2 MB/s\u001b[0m eta \u001b[36m0:00:00\u001b[0m\n",
            "\u001b[2K   \u001b[90m━━━━━━━━━━━━━━━━━━━━━━━━━━━━━━━━━━━━━━━━\u001b[0m \u001b[32m1.0/1.0 MB\u001b[0m \u001b[31m43.6 MB/s\u001b[0m eta \u001b[36m0:00:00\u001b[0m\n",
            "\u001b[2K   \u001b[90m━━━━━━━━━━━━━━━━━━━━━━━━━━━━━━━━━━━━━━━━\u001b[0m \u001b[32m412.7/412.7 kB\u001b[0m \u001b[31m20.2 MB/s\u001b[0m eta \u001b[36m0:00:00\u001b[0m\n",
            "\u001b[?25h  Building wheel for sgmllib3k (setup.py) ... \u001b[?25l\u001b[?25hdone\n",
            "\u001b[31mERROR: pip's dependency resolver does not currently take into account all the packages that are installed. This behaviour is the source of the following dependency conflicts.\n",
            "langchain-openai 0.1.23 requires langchain-core<0.3.0,>=0.2.35, but you have langchain-core 0.3.33 which is incompatible.\n",
            "langgraph-checkpoint 1.0.8 requires langchain-core<0.3,>=0.2.22, but you have langchain-core 0.3.33 which is incompatible.\n",
            "langgraph 0.2.14 requires langchain-core<0.3,>=0.2.27, but you have langchain-core 0.3.33 which is incompatible.\u001b[0m\u001b[31m\n",
            "\u001b[0mPlease enter the Arxiv paper you'd like to search for:RAG\n"
          ]
        },
        {
          "output_type": "execute_result",
          "data": {
            "text/plain": [
              "'Published: 2024-07-26\\nTitle: Modular RAG: Transforming RAG Systems into LEGO-like Reconfigurable Frameworks\\nAuthors: Yunfan Gao, Yun Xiong, Meng Wang, Haofen Wang\\nSummary: Retrieval-augmented Generation (RAG) has markedly enhanced the capabilities\\nof Large Language Models (LLMs) in tackling knowledge-intensive tasks. The\\nincreasing demands of application scenarios have driven the evolution of RAG,\\nleading to the integration of advanced retrievers, LLMs and other complementary\\ntechnologies, which in turn has amplified the intricacy of RAG systems.\\nHowever, the rapid advancements are outpacing the foundational RAG paradigm,\\nwith many methods struggling to be unified under the process of\\n\"retrieve-then-generate\". In this context, this paper examines the limitations\\nof the existing RAG paradigm and introduces the modular RAG framework. By\\ndecomposing complex RAG systems into independent modules and specialized\\noperators, it facilitates a highly reconfigurable framework. Modular RAG\\ntranscends the traditional linear architecture, embracing a more advanced\\ndesign that integrates routing, scheduling, and fusion mechanisms. Drawing on\\nextensive research, this paper further identifies prevalent RAG\\npatterns-linear, conditional, branching, and looping-and offers a comprehensive\\nanalysis of their respective implementation nuances. Modular RAG presents\\ninnovative opportunities for the conceptualization and deployment of RAG\\nsystems. Finally, the paper explores the potential emergence of new operators\\nand paradigms, establishing a solid theoretical foundation and a practical\\nroadmap for the continued evolution and practical deployment of RAG\\ntechnologies.\\n\\nPublished: 2024-12-31\\nTitle: RAG-Instruct: Boosting LLMs with Diverse Retrieval-Augmented Instructions\\nAuthors: Wanlong Liu, Junying Chen, Ke Ji, Li Zhou, Wenyu Chen, Benyou Wang\\nSummary: Retrieval-Augmented Generation (RAG) has emerged as a key paradigm for\\nenhancing large language models (LLMs) by incorporating external knowledge.\\nHowever, current RAG methods face two limitations: (1) they only cover limited\\nRAG scenarios. (2) They suffer from limited task diversity due to the lack of a\\ngeneral RAG dataset. To address these limitations, we propose RAG-Instruct, a\\ngeneral method for synthesizing diverse and high-quality RAG instruction data\\nbased on any source corpus. Our approach leverages (1) five RAG paradigms,\\nwhich encompass diverse query-document relationships, and (2) instruction\\nsimulation, which enhances instruction diversity and quality by utilizing the\\nstrengths of existing instruction datasets. Using this method, we construct a\\n40K instruction dataset from Wikipedia, comprehensively covering diverse RAG\\nscenarios and tasks. Experiments demonstrate that RAG-Instruct effectively\\nenhances LLMs\\' RAG capabilities, achieving strong zero-shot performance and\\nsignificantly outperforming various RAG baselines across a diverse set of\\ntasks. RAG-Instruct is publicly available at\\nhttps://github.com/FreedomIntelligence/RAG-Instruct.\\n\\nPublished: 2025-01-09\\nTitle: RAG-WM: An Efficient Black-Box Watermarking Approach for Retrieval-Augmented Generation of Large Language Models\\nAuthors: Peizhuo Lv, Mengjie Sun, Hao Wang, Xiaofeng Wang, Shengzhi Zhang, Yuxuan Chen, Kai Chen, Limin Sun\\nSummary: In recent years, tremendous success has been witnessed in Retrieval-Augmented\\nGeneration (RAG), widely used to enhance Large Language Models (LLMs) in\\ndomain-specific, knowledge-intensive, and privacy-sensitive tasks. However,\\nattackers may steal those valuable RAGs and deploy or commercialize them,\\nmaking it essential to detect Intellectual Property (IP) infringement. Most\\nexisting ownership protection solutions, such as watermarks, are designed for\\nrelational databases and texts. They cannot be directly applied to RAGs because\\nrelational database watermarks require white-box access to detect IP\\ninfringement, which is unrealistic for the knowledge base in RAGs. Meanwhile,\\npost-processing by the adversar'"
            ],
            "application/vnd.google.colaboratory.intrinsic+json": {
              "type": "string"
            }
          },
          "metadata": {},
          "execution_count": 51
        }
      ]
    },
    {
      "cell_type": "markdown",
      "source": [
        "## Task 2: Helper Functions for Agent Graphs\n",
        "\n",
        "We'll be using a number of agents, nodes, and supervisors in the rest of the notebook - and so it will help to have a collection of useful helper functions that we can leverage to make our lives easier going forward.\n",
        "\n",
        "Let's start with the most simple one!"
      ],
      "metadata": {
        "id": "7U6a_pqQ9uWf"
      }
    },
    {
      "cell_type": "markdown",
      "source": [
        "#### Import Wall\n",
        "\n",
        "Here's a wall of imports we'll be needing going forward!"
      ],
      "metadata": {
        "id": "IDUnpEEl-L_F"
      }
    },
    {
      "cell_type": "code",
      "source": [
        "from typing import Any, Callable, List, Optional, TypedDict, Union\n",
        "\n",
        "from langchain.agents import AgentExecutor, create_openai_functions_agent\n",
        "from langchain.output_parsers.openai_functions import JsonOutputFunctionsParser\n",
        "from langchain_core.prompts import ChatPromptTemplate, MessagesPlaceholder\n",
        "from langchain_core.messages import AIMessage, BaseMessage, HumanMessage\n",
        "from langchain_core.runnables import Runnable\n",
        "from langchain_core.tools import BaseTool\n",
        "from langchain_openai import ChatOpenAI\n",
        "\n",
        "from langgraph.graph import END, StateGraph"
      ],
      "metadata": {
        "id": "TbzoL3Q3-SG1"
      },
      "execution_count": null,
      "outputs": []
    },
    {
      "cell_type": "markdown",
      "source": [
        "### Agent Node Helper\n",
        "\n",
        "Since we're going to be wrapping each of our agents into a node - it will help to have an easy way to create the node!"
      ],
      "metadata": {
        "id": "qb6Z3EEz-Asi"
      }
    },
    {
      "cell_type": "code",
      "source": [
        "def agent_node(state, agent, name):\n",
        "    result = agent.invoke(state)\n",
        "    return {\"messages\": [HumanMessage(content=result[\"output\"], name=name)]}"
      ],
      "metadata": {
        "id": "5IF7KWfS-JKd"
      },
      "execution_count": null,
      "outputs": []
    },
    {
      "cell_type": "markdown",
      "source": [
        "### Agent Creation Helper Function\n",
        "\n",
        "Since we know we'll need to create agents to populate our agent nodes, let's use a helper function for that as well!\n",
        "\n",
        "Notice a few things:\n",
        "\n",
        "1. We have a standard suffix to append to our system messages for each agent to handle the tool calling and boilerplate prompting.\n",
        "2. Each agent has its our scratchpad.\n",
        "3. We're relying on OpenAI's function-calling API for tool selection\n",
        "4. Each agent is its own executor."
      ],
      "metadata": {
        "id": "fwND2teK-WHm"
      }
    },
    {
      "cell_type": "code",
      "source": [
        "def create_agent(\n",
        "    llm: ChatOpenAI,\n",
        "    tools: list,\n",
        "    system_prompt: str,\n",
        ") -> str:\n",
        "    \"\"\"Create a function-calling agent and add it to the graph.\"\"\"\n",
        "    system_prompt += (\"\\nWork autonomously according to your specialty, using the tools available to you.\"\n",
        "    \" Do not ask for clarification.\"\n",
        "    \" Your other team members (and other teams) will collaborate with you with their own specialties.\"\n",
        "    \" You are chosen for a reason! You are one of the following team members: {team_members}.\")\n",
        "    prompt = ChatPromptTemplate.from_messages(\n",
        "        [\n",
        "            (\n",
        "                \"system\",\n",
        "                system_prompt,\n",
        "            ),\n",
        "            MessagesPlaceholder(variable_name=\"messages\"),\n",
        "            MessagesPlaceholder(variable_name=\"agent_scratchpad\"),\n",
        "        ]\n",
        "    )\n",
        "    agent = create_openai_functions_agent(llm, tools, prompt)\n",
        "    executor = AgentExecutor(agent=agent, tools=tools)\n",
        "    return executor"
      ],
      "metadata": {
        "id": "NxLyHJt5-eUx"
      },
      "execution_count": null,
      "outputs": []
    },
    {
      "cell_type": "markdown",
      "source": [
        "### Supervisor Helper Function\n",
        "\n",
        "Finally, we need a \"supervisor\" that decides and routes tasks to specific agents.\n",
        "\n",
        "Since each \"team\" will have a collection of potential agents - this \"supervisor\" will act as an \"intelligent\" router to make sure that the right agent is selected for the right task.\n",
        "\n",
        "Notice that, at the end of the day, this \"supervisor\" is simply directing who acts next - or if the state is considered \"done\"."
      ],
      "metadata": {
        "id": "S6kmlR9d-1K5"
      }
    },
    {
      "cell_type": "code",
      "source": [
        "def create_team_supervisor(llm: ChatOpenAI, system_prompt, members) -> str:\n",
        "    \"\"\"An LLM-based router.\"\"\"\n",
        "    options = [\"FINISH\"] + members\n",
        "    function_def = {\n",
        "        \"name\": \"route\",\n",
        "        \"description\": \"Select the next role.\",\n",
        "        \"parameters\": {\n",
        "            \"title\": \"routeSchema\",\n",
        "            \"type\": \"object\",\n",
        "            \"properties\": {\n",
        "                \"next\": {\n",
        "                    \"title\": \"Next\",\n",
        "                    \"anyOf\": [\n",
        "                        {\"enum\": options},\n",
        "                    ],\n",
        "                },\n",
        "            },\n",
        "            \"required\": [\"next\"],\n",
        "        },\n",
        "    }\n",
        "    prompt = ChatPromptTemplate.from_messages(\n",
        "        [\n",
        "            (\"system\", system_prompt),\n",
        "            MessagesPlaceholder(variable_name=\"messages\"),\n",
        "            (\n",
        "                \"system\",\n",
        "                \"Given the conversation above, who should act next?\"\n",
        "                \" Or should we FINISH? Select one of: {options}\",\n",
        "            ),\n",
        "        ]\n",
        "    ).partial(options=str(options), team_members=\", \".join(members))\n",
        "    return (\n",
        "        prompt\n",
        "        | llm.bind_functions(functions=[function_def], function_call=\"route\")\n",
        "        | JsonOutputFunctionsParser()\n",
        "    )"
      ],
      "metadata": {
        "id": "S2MXA83mrYE2"
      },
      "execution_count": null,
      "outputs": []
    },
    {
      "cell_type": "markdown",
      "source": [
        "## Task 3: Research Team - A LangGraph for Researching A Specific Topic\n",
        "\n",
        "Now that we have our RAG chain set-up and some awesome helper functions, we want to create a LangGraph related to researching a specific topic.\n",
        "\n",
        "We're going to start by equipping our Research Team with a few tools:\n",
        "\n",
        "1. Tavily Search - aka \"Google\", for the most up to date information possible.\n",
        "2. Our RAG chain - specific and high quality information about our topic.\n",
        "\n",
        "Let's create those tools now!"
      ],
      "metadata": {
        "id": "jd0zfyq48jKb"
      }
    },
    {
      "cell_type": "markdown",
      "source": [
        "### Tool Creation\n",
        "\n",
        "As you can see below, some tools already come pre-packaged ready to use!"
      ],
      "metadata": {
        "id": "VNsVTZrH_alw"
      }
    },
    {
      "cell_type": "code",
      "source": [
        "from langchain_community.tools.tavily_search import TavilySearchResults\n",
        "\n",
        "tavily_tool = TavilySearchResults(max_results=5)"
      ],
      "metadata": {
        "id": "ce7FKTZDgAWG"
      },
      "execution_count": null,
      "outputs": []
    },
    {
      "cell_type": "markdown",
      "source": [
        "Creating a custom tool, however, is very straightforward.\n",
        "\n",
        "> NOTE: You *must* include a docstring, as that is what the LLM will consider when deciding when to use this tool."
      ],
      "metadata": {
        "id": "NIR7cbTL9agM"
      }
    },
    {
      "cell_type": "code",
      "source": [
        "from typing import Annotated, List, Tuple, Union\n",
        "from langchain_core.tools import tool\n",
        "\n",
        "@tool\n",
        "def retrieve_information(\n",
        "    query: Annotated[str, \"query to ask the retrieve information tool\"]\n",
        "    ):\n",
        "  \"\"\"Use Retrieval Augmented Generation to retrieve information about the 'Extending Llama-3’s Context Ten-Fold Overnight' paper.\"\"\"\n",
        "  return rag_chain.invoke({\"question\" : query})"
      ],
      "metadata": {
        "id": "sSwO2L_UqFhm"
      },
      "execution_count": null,
      "outputs": []
    },
    {
      "cell_type": "markdown",
      "source": [
        "> NOTE: We could just as easily use the LCEL chain directly, since nodes can be LCEL objects - but creating a tool helps explain the tool creation process at the same time."
      ],
      "metadata": {
        "id": "nxsMnqjpBTCj"
      }
    },
    {
      "cell_type": "markdown",
      "source": [
        "### Research Team State\n",
        "\n",
        "Since we're using LangGraph - we're going to need state!\n",
        "\n",
        "Let's look at how we've created our state below."
      ],
      "metadata": {
        "id": "oDHCajO4_gB2"
      }
    },
    {
      "cell_type": "code",
      "source": [
        "import functools\n",
        "import operator\n",
        "\n",
        "from langchain_core.messages import AIMessage, BaseMessage, HumanMessage\n",
        "from langchain_openai.chat_models import ChatOpenAI\n",
        "import functools\n",
        "\n",
        "class ResearchTeamState(TypedDict):\n",
        "    messages: Annotated[List[BaseMessage], operator.add]\n",
        "    team_members: List[str]\n",
        "    next: str"
      ],
      "metadata": {
        "id": "mXminK9d_1fa"
      },
      "execution_count": null,
      "outputs": []
    },
    {
      "cell_type": "markdown",
      "source": [
        "Notice how we've used `messages`, `team_members`, and `next`.\n",
        "\n",
        "These states will help us understand:\n",
        "\n",
        "1. What we've done so far (`messages`)\n",
        "2. Which team members we have access to (`team_members`)\n",
        "3. Which team member is up next! (`next`)"
      ],
      "metadata": {
        "id": "fvPM5msq_18C"
      }
    },
    {
      "cell_type": "markdown",
      "source": [
        "### Research Team LLM\n",
        "\n",
        "We'll be using `gpt-4-turbo` today. This LLM is going to be doing a lot of reasoning - and so using a \"powerful\" LLM is very important here!"
      ],
      "metadata": {
        "id": "Mu7B_6qHAFjK"
      }
    },
    {
      "cell_type": "code",
      "source": [
        "llm = ChatOpenAI(model=\"gpt-4-turbo\")"
      ],
      "metadata": {
        "id": "dTNqrip8AcKR"
      },
      "execution_count": null,
      "outputs": []
    },
    {
      "cell_type": "markdown",
      "source": [
        "##### ❓ Question #1:\n",
        "\n",
        "Why is a \"powerful\" LLM important for this use-case?\n",
        "\n",
        "What tasks must our Agent perform that make it such that the LLM's reasoning capability is a potential limiter?\n",
        "\n",
        "A - In this context, the LLM is responsible for making decisions and selecting the appropriate tools. A more powerful LLM enhances reasoning abilities, allowing it to determine which information is most relevant and how to act on it effectively. The stronger the model, the better it can apply context, logic, and decision-making, ultimately improving how it utilizes the available tools."
      ],
      "metadata": {
        "id": "pfb_VCNKIy9w"
      }
    },
    {
      "cell_type": "markdown",
      "source": [
        "### Research Team Agents & Nodes\n",
        "\n",
        "Now we can use our helper functions to create our agent nodes, with their related tools.\n",
        "\n",
        "Let's start with our search agent node."
      ],
      "metadata": {
        "id": "ZR_1LuMKAekf"
      }
    },
    {
      "cell_type": "markdown",
      "source": [
        "#### Research Team: Search Agent\n",
        "\n",
        "We're going to give our agent access to the Tavily tool, power it with our GPT-4 Turbo model, and then create its node - and name it `Search`."
      ],
      "metadata": {
        "id": "uzx6wuPoAlPq"
      }
    },
    {
      "cell_type": "code",
      "source": [
        "search_agent = create_agent(\n",
        "    llm,\n",
        "    [tavily_tool],\n",
        "    \"You are a research assistant who can search for up-to-date info using the tavily search engine.\",\n",
        ")\n",
        "search_node = functools.partial(agent_node, agent=search_agent, name=\"Search\")"
      ],
      "metadata": {
        "id": "FIlLPxj7Atpj"
      },
      "execution_count": null,
      "outputs": []
    },
    {
      "cell_type": "markdown",
      "source": [
        "#### Research Team: RAG Agent Node\n",
        "\n",
        "Now we can wrap our LCEL RAG pipeline in an agent node as well, using the LCEL RAG pipeline as the tool, as created above."
      ],
      "metadata": {
        "id": "emLtesudA9Dd"
      }
    },
    {
      "cell_type": "code",
      "source": [
        "research_agent = create_agent(\n",
        "    llm,\n",
        "    [retrieve_information],\n",
        "    \"You are a research assistant who can provide specific information on the provided paper: 'Extending Llama-3’s Context Ten-Fold Overnight'. You must only respond with information about the paper related to the request.\",\n",
        ")\n",
        "research_node = functools.partial(agent_node, agent=research_agent, name=\"PaperInformationRetriever\")"
      ],
      "metadata": {
        "id": "z-nnAG9XA_p7"
      },
      "execution_count": null,
      "outputs": []
    },
    {
      "cell_type": "markdown",
      "source": [
        "### Research Team Supervisor Agent\n",
        "\n",
        "Notice that we're not yet creating our supervisor *node*, simply the agent here.\n",
        "\n",
        "Also notice how we need to provide a few extra pieces of information - including which tools we're using.\n",
        "\n",
        "> NOTE: It's important to use the *exact* tool name, as that is how the LLM will reference the tool. Also, it's important that your tool name is all a single alphanumeric string!\n",
        "\n"
      ],
      "metadata": {
        "id": "dA5z6T1CBeSc"
      }
    },
    {
      "cell_type": "code",
      "source": [
        "supervisor_agent = create_team_supervisor(\n",
        "    llm,\n",
        "    (\"You are a supervisor tasked with managing a conversation between the\"\n",
        "    \" following workers:  Search, PaperInformationRetriever. Given the following user request,\"\n",
        "    \" determine the subject to be researched and respond with the worker to act next. Each worker will perform a\"\n",
        "    \" task and respond with their results and status. \"\n",
        "    \" You should never ask your team to do anything beyond research. They are not required to write content or posts.\"\n",
        "    \" You should only pass tasks to workers that are specifically research focused.\"\n",
        "    \" When finished, respond with FINISH.\"),\n",
        "    [\"Search\", \"PaperInformationRetriever\"],\n",
        ")"
      ],
      "metadata": {
        "id": "J0g8CQMBrtFs"
      },
      "execution_count": null,
      "outputs": []
    },
    {
      "cell_type": "markdown",
      "source": [
        "### Research Team Graph Creation\n",
        "\n",
        "Now that we have our research team agent nodes created, and our supervisor agent - let's finally construct our graph!\n",
        "\n",
        "We'll start by creating our base graph from our state, and then adding the nodes/agent we've created as nodes on our LangGraph."
      ],
      "metadata": {
        "id": "qohn0DcgB_U1"
      }
    },
    {
      "cell_type": "code",
      "source": [
        "research_graph = StateGraph(ResearchTeamState)\n",
        "\n",
        "research_graph.add_node(\"Search\", search_node)\n",
        "research_graph.add_node(\"PaperInformationRetriever\", research_node)\n",
        "research_graph.add_node(\"supervisor\", supervisor_agent)"
      ],
      "metadata": {
        "id": "p0s2GAgJCN8G"
      },
      "execution_count": null,
      "outputs": []
    },
    {
      "cell_type": "markdown",
      "source": [
        "Now we can define our edges - include our conditional edge from our supervisor to our agent nodes.\n",
        "\n",
        "Notice how we're always routing our agent nodes back to our supervisor!"
      ],
      "metadata": {
        "id": "33qixRGNCaAX"
      }
    },
    {
      "cell_type": "code",
      "source": [
        "research_graph.add_edge(\"Search\", \"supervisor\")\n",
        "research_graph.add_edge(\"PaperInformationRetriever\", \"supervisor\")\n",
        "research_graph.add_conditional_edges(\n",
        "    \"supervisor\",\n",
        "    lambda x: x[\"next\"],\n",
        "    {\"Search\": \"Search\", \"PaperInformationRetriever\": \"PaperInformationRetriever\", \"FINISH\": END},\n",
        ")"
      ],
      "metadata": {
        "id": "yYSJIhijsGyg"
      },
      "execution_count": null,
      "outputs": []
    },
    {
      "cell_type": "markdown",
      "source": [
        "Now we can set our supervisor node as the entry point, and compile our graph!"
      ],
      "metadata": {
        "id": "hgGcuZzkCj1-"
      }
    },
    {
      "cell_type": "code",
      "source": [
        "research_graph.set_entry_point(\"supervisor\")\n",
        "chain = research_graph.compile()"
      ],
      "metadata": {
        "id": "1l-1I2Z3CnPX"
      },
      "execution_count": null,
      "outputs": []
    },
    {
      "cell_type": "markdown",
      "source": [
        "#### Display Graph"
      ],
      "metadata": {
        "id": "GDwQpYTSEY13"
      }
    },
    {
      "cell_type": "code",
      "source": [
        "from IPython.display import Image, display\n",
        "\n",
        "try:\n",
        "    display(Image(chain.get_graph(xray=True).draw_mermaid_png()))\n",
        "except:\n",
        "    pass"
      ],
      "metadata": {
        "colab": {
          "base_uri": "https://localhost:8080/",
          "height": 488
        },
        "id": "l8n6SXhpEa2b",
        "outputId": "c70a5e68-21e8-4b14-92bb-f9b813e3600c"
      },
      "execution_count": null,
      "outputs": [
        {
          "output_type": "display_data",
          "data": {
            "image/jpeg": "[encoded data removed]",
            "text/plain": [
              "<IPython.core.display.Image object>"
            ]
          },
          "metadata": {}
        }
      ]
    },
    {
      "cell_type": "markdown",
      "source": [
        "The next part is key - since we need to \"wrap\" our LangGraph in order for it to be compatible in the following steps - let's create an LCEL chain out of it!\n",
        "\n",
        "This allows us to \"broadcast\" messages down to our Research Team LangGraph!"
      ],
      "metadata": {
        "id": "bfRvA2QfCqFL"
      }
    },
    {
      "cell_type": "code",
      "source": [
        "def enter_chain(message: str):\n",
        "    results = {\n",
        "        \"messages\": [HumanMessage(content=message)],\n",
        "    }\n",
        "    return results\n",
        "\n",
        "research_chain = enter_chain | chain"
      ],
      "metadata": {
        "id": "1G7hmEINCx3i"
      },
      "execution_count": null,
      "outputs": []
    },
    {
      "cell_type": "markdown",
      "source": [
        "Now, finally, we can take it for a spin!"
      ],
      "metadata": {
        "id": "EGdoCdXWC7Pi"
      }
    },
    {
      "cell_type": "code",
      "source": [
        "for s in research_chain.stream(\n",
        "    \"What are the main takeaways from the paper `Extending Llama-3's Context Ten-Fold Overnight'? Please use Search and PaperInformationRetriever!\", {\"recursion_limit\": 100}\n",
        "):\n",
        "    if \"__end__\" not in s:\n",
        "        print(s)\n",
        "        print(\"---\")"
      ],
      "metadata": {
        "colab": {
          "base_uri": "https://localhost:8080/"
        },
        "id": "xIDpFIg2sRUl",
        "outputId": "fa9682ca-6722-4ba5-c4a3-0b241c70372c"
      },
      "execution_count": null,
      "outputs": [
        {
          "output_type": "stream",
          "name": "stdout",
          "text": [
            "{'supervisor': {'next': 'Search'}}\n",
            "---\n",
            "{'Search': {'messages': [HumanMessage(content='The paper titled \"Extending Llama-3\\'s Context Ten-Fold Overnight\" presents significant findings in the field of large language models (LLMs), specifically focusing on the Llama-3-8B-Instruct model. Here are the main takeaways from the paper:\\n\\n1. **Context Length Increase**: The researchers were able to extend the context length of the Llama-3 model from 8,000 tokens to 80,000 tokens. This was achieved through a technique known as QLoRA fine-tuning.\\n\\n2. **Efficiency of Training**: The extension process was remarkably efficient, requiring only 8 hours on a single machine equipped with 8xA800 (80G) GPUs.\\n\\n3. **Synthetic Training Samples**: A critical aspect of their methodology was the use of only 3,500 synthetic training samples generated by GPT-4, demonstrating the potential of LLMs to significantly extend their context length with minimal data.\\n\\n4. **Performance Improvements**: The enhanced model showed superior performance across various evaluation tasks, including natural language inference (NIHS), topic retrieval, and long-context language understanding.\\n\\n5. **Preservation of Model Integrity**: Despite the dramatic increase in context capacity, the model well preserved its initial abilities and performance metrics.\\n\\n6. **Potential for Further Extension**: The paper also hints at the possibility of extending the context length even beyond 80,000 tokens if more computational resources are provided, suggesting a largely underexploited potential in LLMs for handling extended contexts.\\n\\nThese findings highlight a significant advancement in the scalability and capability of large language models, opening new avenues for research and application in handling more extensive and complex data sets efficiently.', name='Search')]}}\n",
            "---\n",
            "{'supervisor': {'next': 'FINISH'}}\n",
            "---\n"
          ]
        }
      ]
    },
    {
      "cell_type": "markdown",
      "source": [
        "##### 🏗️ Activity #2:\n",
        "\n",
        "Using whatever drawing application you wish - please label the flow above on a diagram of your graph.\n",
        "![image.png](data:image/png;base64,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)"
      ],
      "metadata": {
        "id": "DHAgsbwIIhwj"
      }
    },
    {
      "cell_type": "markdown",
      "source": [
        "##### ❓ Question #2:\n",
        "\n",
        "How could you make sure your Agent uses specific tools that you wish it to use? Are there any ways to concretely set a flow through tools?\n",
        "\n",
        "A- We can explicitly define a sequential chain of tools, linking them together in a structured workflow. Additionally, we can create graph-based structures with predefined workflows and conditional routing to control execution flow. Function model constraints can also be applied to enforce specific tool usage where necessary.  We can also tell the node what tool to use."
      ],
      "metadata": {
        "id": "eH70eHGlJbq4"
      }
    },
    {
      "cell_type": "markdown",
      "source": [
        "# 🤝 BREAKOUT ROOM #2"
      ],
      "metadata": {
        "id": "iktcBorGXmAW"
      }
    },
    {
      "cell_type": "markdown",
      "source": [
        "## Task 4: Document Writing Team - A LangGraph for Writing, Editing, and Planning a LinkedIn post.\n",
        "\n",
        "Let's run it all back, this time specifically creating tools, agent nodes, and a graph for planning, writing, and editing a LinkedIn post!"
      ],
      "metadata": {
        "id": "ejsHCZZ2EmwM"
      }
    },
    {
      "cell_type": "markdown",
      "source": [
        "### Tool Creation\n",
        "\n",
        "Let's create some tools that will help us understand, open, work with, and edit documents to our liking!"
      ],
      "metadata": {
        "id": "4awQtZ-oFUN-"
      }
    },
    {
      "cell_type": "code",
      "source": [
        "from pathlib import Path\n",
        "from tempfile import TemporaryDirectory\n",
        "from typing import Dict, Optional\n",
        "from typing_extensions import TypedDict\n",
        "import uuid\n",
        "import os\n",
        "\n",
        "os.makedirs('/content/data', exist_ok=True)\n",
        "\n",
        "def create_random_subdirectory():\n",
        "    random_id = str(uuid.uuid4())[:8]  # Use first 8 characters of a UUID\n",
        "    subdirectory_path = os.path.join('/content/data', random_id)\n",
        "    os.makedirs(subdirectory_path, exist_ok=True)\n",
        "    return subdirectory_path\n",
        "\n",
        "WORKING_DIRECTORY = Path(create_random_subdirectory())\n",
        "\n",
        "@tool\n",
        "def create_outline(\n",
        "    points: Annotated[List[str], \"List of main points or sections.\"],\n",
        "    file_name: Annotated[str, \"File path to save the outline.\"],\n",
        ") -> Annotated[str, \"Path of the saved outline file.\"]:\n",
        "    \"\"\"Create and save an outline.\"\"\"\n",
        "    with (WORKING_DIRECTORY / file_name).open(\"w\") as file:\n",
        "        for i, point in enumerate(points):\n",
        "            file.write(f\"{i + 1}. {point}\\n\")\n",
        "    return f\"Outline saved to {file_name}\"\n",
        "\n",
        "\n",
        "@tool\n",
        "def read_document(\n",
        "    file_name: Annotated[str, \"File path to save the document.\"],\n",
        "    start: Annotated[Optional[int], \"The start line. Default is 0\"] = None,\n",
        "    end: Annotated[Optional[int], \"The end line. Default is None\"] = None,\n",
        ") -> str:\n",
        "    \"\"\"Read the specified document.\"\"\"\n",
        "    with (WORKING_DIRECTORY / file_name).open(\"r\") as file:\n",
        "        lines = file.readlines()\n",
        "    if start is not None:\n",
        "        start = 0\n",
        "    return \"\\n\".join(lines[start:end])\n",
        "\n",
        "\n",
        "@tool\n",
        "def write_document(\n",
        "    content: Annotated[str, \"Text content to be written into the document.\"],\n",
        "    file_name: Annotated[str, \"File path to save the document.\"],\n",
        ") -> Annotated[str, \"Path of the saved document file.\"]:\n",
        "    \"\"\"Create and save a text document.\"\"\"\n",
        "    with (WORKING_DIRECTORY / file_name).open(\"w\") as file:\n",
        "        file.write(content)\n",
        "    return f\"Document saved to {file_name}\"\n",
        "\n",
        "\n",
        "@tool\n",
        "def edit_document(\n",
        "    file_name: Annotated[str, \"Path of the document to be edited.\"],\n",
        "    inserts: Annotated[\n",
        "        Dict[int, str],\n",
        "        \"Dictionary where key is the line number (1-indexed) and value is the text to be inserted at that line.\",\n",
        "    ] = {},\n",
        ") -> Annotated[str, \"Path of the edited document file.\"]:\n",
        "    \"\"\"Edit a document by inserting text at specific line numbers.\"\"\"\n",
        "\n",
        "    with (WORKING_DIRECTORY / file_name).open(\"r\") as file:\n",
        "        lines = file.readlines()\n",
        "\n",
        "    sorted_inserts = sorted(inserts.items())\n",
        "\n",
        "    for line_number, text in sorted_inserts:\n",
        "        if 1 <= line_number <= len(lines) + 1:\n",
        "            lines.insert(line_number - 1, text + \"\\n\")\n",
        "        else:\n",
        "            return f\"Error: Line number {line_number} is out of range.\"\n",
        "\n",
        "    with (WORKING_DIRECTORY / file_name).open(\"w\") as file:\n",
        "        file.writelines(lines)\n",
        "\n",
        "    return f\"Document edited and saved to {file_name}\""
      ],
      "metadata": {
        "id": "ptXilgparOkq"
      },
      "execution_count": null,
      "outputs": []
    },
    {
      "cell_type": "markdown",
      "source": [
        "##### 🏗️ Activity #3:\n",
        "\n",
        "Describe, briefly, what each of these tools is doing in your own words.\n",
        "\n",
        "A:\n",
        "`create_random_subdirectory(...)`: return string  -> creates a subdir using the first 8 chars of a UUID v4 guid and creates it under the content/data path\n",
        "Then sets the working_directory to the output to the results of the function.\n",
        "\n",
        "`create_outline(...)` -> Writes data to a file using the **Annotated** `points` array that is input into the function. The `file_name` is also an input to the function. This function is declared as a `@tool` for our Graph.  \n",
        "\n",
        "The function **iterates through the list of points**, formats them as a numbered outline, and writes them to the specified file inside `WORKING_DIRECTORY`.  \n",
        "\n",
        "The returned value is the string `\"Outline saved to {file_name}\"`, where `file_name` is **string interpolated**.  \n",
        "\n",
        "The goal of this function/tool is to **create an outline** from an **input list of strings** and save it as a file.\n",
        "\n",
        "`read_document(...)` -> Reads a file from `WORKING_DIRECTORY` using an **inputted** `file_name` to the function. This function **retrieves the file contents**, joins the lines, and returns them as a **single string** to the caller.  \n",
        "\n",
        "The function also accepts optional **start** and **end** parameters to specify a range of lines to return. If `start` is `None`, it defaults to **0**.  \n",
        "\n",
        "This function is declared as a `@tool` for our **graph**.\n",
        "\n",
        "`write_document(...)` -> Writes data to a file using the **inputted** `content` string and `file_name`. The function **opens the file in write mode**, writes the provided text content, and saves it inside `WORKING_DIRECTORY`.  \n",
        "\n",
        "The returned value is the string `\"Document saved to {file_name}\"`, where `file_name` is **string interpolated**.  \n",
        "\n",
        "This function is declared as a `@tool` for our **graph**.\n",
        "\n",
        "`edit_document(...)` -> Edits a file from `WORKING_DIRECTORY` using the **inputted** `file_name`. This function **reads the file**, modifies its content based on the **`inserts` dictionary**, and then **saves the updated file**.  \n",
        "\n",
        "The `inserts` dictionary contains **line numbers as keys** (1-indexed) and **text to be inserted** as values. The function **sorts the inserts**, ensures they are within range, and updates the document accordingly.  \n",
        "\n",
        "The returned value is the string `\"Document edited and saved to {file_name}\"`, where `file_name` is **string interpolated**. If an invalid line number is provided, an **error message** is returned instead.  \n",
        "\n",
        "This function is declared as a `@tool` for our **graph**."
      ],
      "metadata": {
        "id": "n8yH1IAYK7nL"
      }
    },
    {
      "cell_type": "markdown",
      "source": [
        "### Document Writing State\n",
        "\n",
        "Just like with our Research Team state - we want to keep track of a few things, however this time - we also want to keep track of which files we've created - so let's add that here!"
      ],
      "metadata": {
        "id": "__Jw_XBIFwwa"
      }
    },
    {
      "cell_type": "code",
      "source": [
        "import operator\n",
        "from pathlib import Path\n",
        "\n",
        "class DocWritingState(TypedDict):\n",
        "    messages: Annotated[List[BaseMessage], operator.add]\n",
        "    team_members: str\n",
        "    next: str\n",
        "    current_files: str"
      ],
      "metadata": {
        "id": "DoU2YwJRu7wD"
      },
      "execution_count": null,
      "outputs": []
    },
    {
      "cell_type": "markdown",
      "source": [
        "### Document Writing Prelude Function\n",
        "\n",
        "Since we have a working directory - we want to be clear about what our current working directory looks like - this helper function will allow us to do that cleanly!"
      ],
      "metadata": {
        "id": "4p1kQShmGHCh"
      }
    },
    {
      "cell_type": "code",
      "source": [
        "def prelude(state):\n",
        "    written_files = []\n",
        "    if not WORKING_DIRECTORY.exists():\n",
        "        WORKING_DIRECTORY.mkdir()\n",
        "    try:\n",
        "        written_files = [\n",
        "            f.relative_to(WORKING_DIRECTORY) for f in WORKING_DIRECTORY.rglob(\"*\")\n",
        "        ]\n",
        "    except:\n",
        "        pass\n",
        "    if not written_files:\n",
        "        return {**state, \"current_files\": \"No files written.\"}\n",
        "    return {\n",
        "        **state,\n",
        "        \"current_files\": \"\\nBelow are files your team has written to the directory:\\n\"\n",
        "        + \"\\n\".join([f\" - {f}\" for f in written_files]),\n",
        "    }"
      ],
      "metadata": {
        "id": "G79mUggQGLVq"
      },
      "execution_count": null,
      "outputs": []
    },
    {
      "cell_type": "markdown",
      "source": [
        "### Document Writing Node Creation\n",
        "\n"
      ],
      "metadata": {
        "id": "wbSre9agT9Gb"
      }
    },
    {
      "cell_type": "code",
      "source": [
        "doc_writer_agent = create_agent(\n",
        "    llm,\n",
        "    [write_document, edit_document, read_document],\n",
        "    (\"You are an expert writing technical LinkedIn posts.\\n\"\n",
        "    \"Below are files currently in your directory:\\n{current_files}\"),\n",
        ")\n",
        "context_aware_doc_writer_agent = prelude | doc_writer_agent\n",
        "doc_writing_node = functools.partial(\n",
        "    agent_node, agent=context_aware_doc_writer_agent, name=\"DocWriter\"\n",
        ")\n",
        "\n",
        "note_taking_agent = create_agent(\n",
        "    llm,\n",
        "    [create_outline, read_document],\n",
        "    (\"You are an expert senior researcher tasked with writing a LinkedIn post outline and\"\n",
        "    \" taking notes to craft a LinkedIn post.\\n{current_files}\"),\n",
        ")\n",
        "context_aware_note_taking_agent = prelude | note_taking_agent\n",
        "note_taking_node = functools.partial(\n",
        "    agent_node, agent=context_aware_note_taking_agent, name=\"NoteTaker\"\n",
        ")\n",
        "\n",
        "copy_editor_agent = create_agent(\n",
        "    llm,\n",
        "    [write_document, edit_document, read_document],\n",
        "    (\"You are an expert copy editor who focuses on fixing grammar, spelling, and tone issues\\n\"\n",
        "    \"Below are files currently in your directory:\\n{current_files}\"),\n",
        ")\n",
        "context_aware_copy_editor_agent = prelude | copy_editor_agent\n",
        "copy_editing_node = functools.partial(\n",
        "    agent_node, agent=context_aware_copy_editor_agent, name=\"CopyEditor\"\n",
        ")\n",
        "\n",
        "dopeness_editor_agent = create_agent(\n",
        "    llm,\n",
        "    [write_document, edit_document, read_document],\n",
        "    (\"You are an expert in dopeness, litness, coolness, etc - you edit the document to make sure it's dope. Make sure to use a number of emojis.\"\n",
        "    \"Below are files currently in your directory:\\n{current_files}\"),\n",
        ")\n",
        "context_aware_dopeness_editor_agent = prelude | dopeness_editor_agent\n",
        "dopeness_node = functools.partial(\n",
        "    agent_node, agent=context_aware_dopeness_editor_agent, name=\"DopenessEditor\"\n",
        ")\n",
        "\n",
        "doc_writing_supervisor = create_team_supervisor(\n",
        "    llm,\n",
        "    (\"You are a supervisor tasked with managing a conversation between the\"\n",
        "    \" following workers: {team_members}. You should always verify the technical\"\n",
        "    \" contents after any edits are made. \"\n",
        "    \"Given the following user request,\"\n",
        "    \" respond with the worker to act next. Each worker will perform a\"\n",
        "    \" task and respond with their results and status. When each team is finished,\"\n",
        "    \" you must respond with FINISH.\"),\n",
        "    [\"DocWriter\", \"NoteTaker\", \"DopenessEditor\", \"CopyEditor\"],\n",
        ")"
      ],
      "metadata": {
        "id": "v7oso327T_wa"
      },
      "execution_count": null,
      "outputs": []
    },
    {
      "cell_type": "markdown",
      "source": [
        "### Document Writing Team LangGraph Construction\n",
        "\n",
        "This part is almost exactly the same (with a few extra nodes) as our Research Team LangGraph construction - so we'll leave it as one block!"
      ],
      "metadata": {
        "id": "AUiNMpJBGXN0"
      }
    },
    {
      "cell_type": "code",
      "source": [
        "authoring_graph = StateGraph(DocWritingState)\n",
        "authoring_graph.add_node(\"DocWriter\", doc_writing_node)\n",
        "authoring_graph.add_node(\"NoteTaker\", note_taking_node)\n",
        "authoring_graph.add_node(\"CopyEditor\", copy_editing_node)\n",
        "authoring_graph.add_node(\"DopenessEditor\", dopeness_node)\n",
        "authoring_graph.add_node(\"supervisor\", doc_writing_supervisor)\n",
        "\n",
        "authoring_graph.add_edge(\"DocWriter\", \"supervisor\")\n",
        "authoring_graph.add_edge(\"NoteTaker\", \"supervisor\")\n",
        "authoring_graph.add_edge(\"CopyEditor\", \"supervisor\")\n",
        "authoring_graph.add_edge(\"DopenessEditor\", \"supervisor\")\n",
        "\n",
        "authoring_graph.add_conditional_edges(\n",
        "    \"supervisor\",\n",
        "    lambda x: x[\"next\"],\n",
        "    {\n",
        "        \"DocWriter\": \"DocWriter\",\n",
        "        \"NoteTaker\": \"NoteTaker\",\n",
        "        \"CopyEditor\" : \"CopyEditor\",\n",
        "        \"DopenessEditor\" : \"DopenessEditor\",\n",
        "        \"FINISH\": END,\n",
        "    },\n",
        ")\n",
        "\n",
        "authoring_graph.set_entry_point(\"supervisor\")\n",
        "chain = authoring_graph.compile()"
      ],
      "metadata": {
        "id": "Q6n8A1ytxVTv"
      },
      "execution_count": null,
      "outputs": []
    },
    {
      "cell_type": "markdown",
      "source": [
        "#### Display Graph"
      ],
      "metadata": {
        "id": "Zx-EKGkHKUBO"
      }
    },
    {
      "cell_type": "code",
      "source": [
        "from IPython.display import Image, display\n",
        "\n",
        "try:\n",
        "    display(Image(chain.get_graph(xray=True).draw_mermaid_png()))\n",
        "except:\n",
        "    pass"
      ],
      "metadata": {
        "colab": {
          "base_uri": "https://localhost:8080/",
          "height": 488
        },
        "id": "AZdOb3GZKSM7",
        "outputId": "0e073ec1-c0aa-4b1e-c0e1-eac6140b9435"
      },
      "execution_count": null,
      "outputs": [
        {
          "output_type": "display_data",
          "data": {
            "image/jpeg": "[encoded data removed]",
            "text/plain": [
              "<IPython.core.display.Image object>"
            ]
          },
          "metadata": {}
        }
      ]
    },
    {
      "cell_type": "markdown",
      "source": [
        "Just as before - we'll need to create an \"interface\" between the level above, and our graph."
      ],
      "metadata": {
        "id": "yB_rOw1hGpwd"
      }
    },
    {
      "cell_type": "code",
      "source": [
        "def enter_chain(message: str, members: List[str]):\n",
        "    results = {\n",
        "        \"messages\": [HumanMessage(content=message)],\n",
        "        \"team_members\": \", \".join(members),\n",
        "    }\n",
        "    return results\n",
        "\n",
        "authoring_chain = (\n",
        "    functools.partial(enter_chain, members=authoring_graph.nodes)\n",
        "    | authoring_graph.compile()\n",
        ")"
      ],
      "metadata": {
        "id": "G-RbbCKoG_nt"
      },
      "execution_count": null,
      "outputs": []
    },
    {
      "cell_type": "markdown",
      "source": [
        "Now we can test this out!\n",
        "\n",
        "> NOTE: It is possible you may see an error here - rerun the cell to clear."
      ],
      "metadata": {
        "id": "GgyhpTrRNgQd"
      }
    },
    {
      "cell_type": "code",
      "source": [
        "for s in authoring_chain.stream(\n",
        "    \"Write an outline for for a short LinkedIn post on Linear Regression and write it to disk.\",\n",
        "    {\"recursion_limit\": 100},\n",
        "):\n",
        "    if \"__end__\" not in s:\n",
        "        print(s)\n",
        "        print(\"---\")"
      ],
      "metadata": {
        "colab": {
          "base_uri": "https://localhost:8080/"
        },
        "id": "IWUxv4XDx3kg",
        "outputId": "4b4dc85a-1458-4d4d-d986-75999d4857ed"
      },
      "execution_count": null,
      "outputs": [
        {
          "output_type": "stream",
          "name": "stdout",
          "text": [
            "{'supervisor': {'next': 'DocWriter'}}\n",
            "---\n",
            "{'DocWriter': {'messages': [HumanMessage(content='The outline for the LinkedIn post on Linear Regression has been successfully created and saved to the file named `LinkedIn_Post_Linear_Regression_Outline.txt`. This outline provides a structured approach to introducing and discussing the concept of linear regression, its key elements, applications, and significance.', name='DocWriter')]}}\n",
            "---\n",
            "{'supervisor': {'next': 'FINISH'}}\n",
            "---\n"
          ]
        }
      ]
    },
    {
      "cell_type": "markdown",
      "source": [
        "## Task 5: Meta-Supervisor and Full Graph\n",
        "\n",
        "Finally, now that we have our two LangGraph agents (some of which are already multi-agent), we can build a supervisor that sits above all of them!\n",
        "\n",
        "The final process, surprisingly, is quite straight forward!\n",
        "\n",
        "Let's jump in!\n",
        "\n",
        "First off - we'll need to create our supervisor agent node."
      ],
      "metadata": {
        "id": "zpW2R9SUHGUq"
      }
    },
    {
      "cell_type": "code",
      "source": [
        "from langchain_core.messages import AIMessage, BaseMessage, HumanMessage\n",
        "from langchain_openai.chat_models import ChatOpenAI\n",
        "\n",
        "\n",
        "llm = ChatOpenAI(model=\"gpt-4\")\n",
        "\n",
        "supervisor_node = create_team_supervisor(\n",
        "    llm,\n",
        "    \"You are a supervisor tasked with managing a conversation between the\"\n",
        "    \" following teams: {team_members}. Given the following user request,\"\n",
        "    \" respond with the worker to act next. Each worker will perform a\"\n",
        "    \" task and respond with their results and status. When all workers are finished,\"\n",
        "    \" you must respond with FINISH.\",\n",
        "    [\"Research team\", \"LinkedIn team\"],\n",
        ")"
      ],
      "metadata": {
        "id": "wkpxeUf9ygKp"
      },
      "execution_count": null,
      "outputs": []
    },
    {
      "cell_type": "markdown",
      "source": [
        "We'll also create our new state - as well as some methods to help us navigate the new state and the subgraphs.\n",
        "\n",
        "> NOTE: We only pass the most recent message from the parent graph to the subgraph, and we only extract the most recent message from the subgraph to include in the state of the parent graph."
      ],
      "metadata": {
        "id": "hUvOh_xWIKig"
      }
    },
    {
      "cell_type": "code",
      "source": [
        "class State(TypedDict):\n",
        "    messages: Annotated[List[BaseMessage], operator.add]\n",
        "    next: str\n",
        "\n",
        "def get_last_message(state: State) -> str:\n",
        "    return state[\"messages\"][-1].content\n",
        "\n",
        "def join_graph(response: dict):\n",
        "    return {\"messages\": [response[\"messages\"][-1]]}"
      ],
      "metadata": {
        "id": "O7HJ8MF0yh_i"
      },
      "execution_count": null,
      "outputs": []
    },
    {
      "cell_type": "markdown",
      "source": [
        "Next, we'll create our base graph.\n",
        "\n",
        "Notice how each node we're adding is *AN ENTIRE LANGGRAPH AGENT* (wrapped into an LCEL chain with our helper functions above)."
      ],
      "metadata": {
        "id": "B5RHao1sIanG"
      }
    },
    {
      "cell_type": "code",
      "source": [
        "super_graph = StateGraph(State)\n",
        "\n",
        "super_graph.add_node(\"Research team\", get_last_message | research_chain | join_graph)\n",
        "super_graph.add_node(\n",
        "    \"LinkedIn team\", get_last_message | authoring_chain | join_graph\n",
        ")\n",
        "super_graph.add_node(\"supervisor\", supervisor_node)"
      ],
      "metadata": {
        "id": "PfCWABCMIaFy"
      },
      "execution_count": null,
      "outputs": []
    },
    {
      "cell_type": "markdown",
      "source": [
        "Next, we'll create our edges!\n",
        "\n",
        "This process is completely idenctical to what we've seen before - just addressing the LangGraph subgraph nodes instead of individual nodes."
      ],
      "metadata": {
        "id": "dpwpUXMtI62E"
      }
    },
    {
      "cell_type": "code",
      "source": [
        "super_graph.add_edge(\"Research team\", \"supervisor\")\n",
        "super_graph.add_edge(\"LinkedIn team\", \"supervisor\")\n",
        "super_graph.add_conditional_edges(\n",
        "    \"supervisor\",\n",
        "    lambda x: x[\"next\"],\n",
        "    {\n",
        "        \"LinkedIn team\": \"LinkedIn team\",\n",
        "        \"Research team\": \"Research team\",\n",
        "        \"FINISH\": END,\n",
        "    },\n",
        ")\n",
        "super_graph.set_entry_point(\"supervisor\")\n",
        "super_graph = super_graph.compile()"
      ],
      "metadata": {
        "id": "tLtjRuUYI-fx"
      },
      "execution_count": null,
      "outputs": []
    },
    {
      "cell_type": "markdown",
      "source": [
        "That's it!\n",
        "\n",
        "Now we can finally use our full agent!"
      ],
      "metadata": {
        "id": "K1KMfFqgJKw8"
      }
    },
    {
      "cell_type": "code",
      "source": [
        "WORKING_DIRECTORY = Path(create_random_subdirectory())\n",
        "\n",
        "for s in super_graph.stream(\n",
        "    {\n",
        "        \"messages\": [\n",
        "            HumanMessage(\n",
        "                content=\"Write a LinkedIn post on the paper 'Extending Llama-3’s Context Ten-Fold Overnight'. First consult the research team. Then make sure you consult the LinkedIn team, and check for copy editing and dopeness, and write the file to disk.\"\n",
        "            )\n",
        "        ],\n",
        "    },\n",
        "    {\"recursion_limit\": 30},\n",
        "):\n",
        "    if \"__end__\" not in s:\n",
        "        print(s)\n",
        "        print(\"---\")"
      ],
      "metadata": {
        "colab": {
          "base_uri": "https://localhost:8080/"
        },
        "id": "3M6wUDR-yk8s",
        "outputId": "64e36bd3-5253-4427-f65d-50b7d03548d6"
      },
      "execution_count": null,
      "outputs": [
        {
          "output_type": "stream",
          "name": "stdout",
          "text": [
            "{'supervisor': {'next': 'Research team'}}\n",
            "---\n",
            "{'Research team': {'messages': [HumanMessage(content='Based on the best practices for using AI research announcements on LinkedIn, the post should adhere to the following:\\n\\n1. **Professional Tone**: Ensure the language remains professional, which aligns with LinkedIn\\'s community standards.\\n2. **Engagement and Visibility**: Utilize engaging language and include relevant hashtags to increase visibility and foster engagement. It’s also beneficial to post during high-traffic times for your target audience.\\n3. **Credibility and Trust**: Link directly to the source materials or research papers to enhance credibility and provide readers with a pathway to detailed information.\\n4. **Iterative Information Sharing**: Highlight that the research and findings are part of an ongoing process, inviting collaboration and further discussion within the community.\\n\\nNow, let\\'s move to the next step and check the post for copy editing and ensuring it has an engaging \"dope\" factor.\\nHere\\'s the final draft of the LinkedIn post after incorporating all necessary checks and aligning with best practices:\\n\\n---\\n\\n🚀 **Exciting News in AI Research!** 🚀\\n\\nWe\\'re thrilled to share groundbreaking advancements from a recent research paper titled \"Extending Llama-3’s Context Ten-Fold Overnight.\" This study, led by a collaborative team from Carnegie Mellon University and Facebook AI, has successfully expanded the context length of the Llama-3 model from 8K to an impressive 80K tokens!\\n\\n🔍 **Key Highlights:**\\n- **Enhanced Performance**: The use of QLoRA fine-tuning has not only increased the context capacity but also enhanced the model\\'s performance across diverse benchmarks, including LongBench and InfiniteBench.\\n- **Robust Long-Form Understanding**: This significant enhancement allows Llama-3 to handle more extensive textual information, making it more robust in understanding and generating long-form content.\\n- **Scalability**: The model shows promising results in generalizing beyond the trained contexts, effectively managing up to 128K tokens.\\n- **Open Collaboration**: Resources including the model, training data, and code are now publicly available, inviting further exploration and development in the field.\\n\\n🌐 This breakthrough marks a substantial step forward in our quest to develop more contextually aware and efficient language models. It opens new horizons for AI applications in processing extensive textual data, from detailed document analysis to enhanced conversational AI.\\n\\nWe are excited to see where this development takes the AI community next!\\n\\n🔗 For more details, check out the full paper here: [Extending Llama-3\\'s Context Ten-Fold Overnight](https://www.emergentmind.com/papers/2404.19553)\\n\\n#AI #MachineLearning #LanguageModels #Innovation #Research #ArtificialIntelligence\\n\\n---\\n\\nThe post is now ready to be saved to disk as requested. Please confirm if you would like to proceed with this or make any further adjustments.', name='Search')]}}\n",
            "---\n",
            "{'supervisor': {'next': 'LinkedIn team'}}\n",
            "---\n",
            "{'LinkedIn team': {'messages': [HumanMessage(content='The LinkedIn post has been saved successfully as \"LinkedIn_AI_Research_Announcement.txt\" and is now ready to rock the professional network with its dope content! 🌟🔥\\n\\nIf you need anything else, just let me know! 🚀📄', name='DopenessEditor')]}}\n",
            "---\n",
            "{'supervisor': {'next': 'FINISH'}}\n",
            "---\n"
          ]
        }
      ]
    },
    {
      "cell_type": "markdown",
      "source": [
        "## SAMPLE POST!"
      ],
      "metadata": {
        "id": "PuZAvSlJJpPP"
      }
    },
    {
      "cell_type": "markdown",
      "source": [
        "🚀 Exciting News in AI Research! 🚀\n",
        "\n",
        "We're thrilled to share a groundbreaking achievement in the field of large language models (LLMs)! A recent study titled \"Extending Llama-3’s Context Ten-Fold Overnight\" has successfully expanded the context length of Llama-3 from 8K to a staggering 80K tokens using QLoRA fine-tuning. This enhancement was accomplished in just eight hours on a single 8xA800 (80G) GPU machine, demonstrating both efficiency and effectiveness in model training.\n",
        "\n",
        "🔍 This remarkable advancement not only improves Llama-3’s performance across various benchmarks such as NIHS, topic retrieval, and long-context language understanding, but also preserves the model's ability to generalize beyond its training contexts, handling up to 128K tokens. This capability makes it a formidable tool in processing extensive textual information, pushing the boundaries of what AI can achieve.\n",
        "\n",
        "📊 Evaluated on LongBench and InfiniteBench, the model consistently outperformed baselines, setting a new standard in the field. Although it faced challenges in code completion tasks, the overall results are overwhelmingly positive.\n",
        "\n",
        "🌐 The full resources, including the model, training data, and code, are now publicly available, providing an invaluable asset for further research in training long-context LLMs.\n",
        "\n",
        "🔗 For more details, check out the full paper [here](https://www.emergentmind.com/papers/2404.19553).\n",
        "\n",
        "Let's continue pushing the limits of what AI can do! #AILLMs #MachineLearning #AIResearch #LanguageModels #Innovation\n"
      ],
      "metadata": {
        "id": "lOEMCrXTJaxW"
      }
    }
  ]
}